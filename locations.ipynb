{
 "cells": [
  {
   "cell_type": "markdown",
   "metadata": {},
   "source": [
    "---\n",
    "\n",
    "# Location Data \n",
    "## POI  Transportation Stations\n",
    "\n",
    "- Data Quality Checks\n",
    "- Preprocessing and filtering (transformation and selecting only what is needed)\n",
    "\n",
    "### Data Used\n",
    "- [Pontos de Interesse: Monumentos, Cultura e Património](https://opendata.porto.digital/dataset/pontos-de-interesse-cultura-e-patrimonio-monumentos/resource/191849b0-4024-406d-ad8b-74b7ef7468e9)\n",
    "---"
   ]
  },
  {
   "cell_type": "markdown",
   "metadata": {},
   "source": [
    "### Imports"
   ]
  },
  {
   "cell_type": "code",
   "execution_count": 16,
   "metadata": {},
   "outputs": [],
   "source": [
    "import pandas as pd\n",
    "import json"
   ]
  },
  {
   "cell_type": "code",
   "execution_count": 23,
   "metadata": {},
   "outputs": [
    {
     "ename": "ValueError",
     "evalue": "All arrays must be of the same length",
     "output_type": "error",
     "traceback": [
      "\u001b[0;31m---------------------------------------------------------------------------\u001b[0m",
      "\u001b[0;31mValueError\u001b[0m                                Traceback (most recent call last)",
      "Cell \u001b[0;32mIn [23], line 3\u001b[0m\n\u001b[1;32m      1\u001b[0m df1 \u001b[38;5;241m=\u001b[39m pd\u001b[38;5;241m.\u001b[39mread_csv(\u001b[38;5;124m\"\u001b[39m\u001b[38;5;124mhttps://opendata.porto.digital/datastore/dump/191849b0-4024-406d-ad8b-74b7ef7468e9?bom=True\u001b[39m\u001b[38;5;124m\"\u001b[39m)\n\u001b[0;32m----> 3\u001b[0m d1 \u001b[38;5;241m=\u001b[39m \u001b[43mpd\u001b[49m\u001b[38;5;241;43m.\u001b[39;49m\u001b[43mread_json\u001b[49m\u001b[43m(\u001b[49m\u001b[38;5;124;43m\"\u001b[39;49m\u001b[38;5;124;43mhttps://opendata.porto.digital/datastore/dump/191849b0-4024-406d-ad8b-74b7ef7468e9?format=json\u001b[39;49m\u001b[38;5;124;43m\"\u001b[39;49m\u001b[43m)\u001b[49m\n",
      "File \u001b[0;32m~/.cache/pypoetry/virtualenvs/hackacity-smo-2022-ai_TqQ8j-py3.9/lib/python3.8/site-packages/pandas/util/_decorators.py:207\u001b[0m, in \u001b[0;36mdeprecate_kwarg.<locals>._deprecate_kwarg.<locals>.wrapper\u001b[0;34m(*args, **kwargs)\u001b[0m\n\u001b[1;32m    205\u001b[0m     \u001b[39melse\u001b[39;00m:\n\u001b[1;32m    206\u001b[0m         kwargs[new_arg_name] \u001b[39m=\u001b[39m new_arg_value\n\u001b[0;32m--> 207\u001b[0m \u001b[39mreturn\u001b[39;00m func(\u001b[39m*\u001b[39;49margs, \u001b[39m*\u001b[39;49m\u001b[39m*\u001b[39;49mkwargs)\n",
      "File \u001b[0;32m~/.cache/pypoetry/virtualenvs/hackacity-smo-2022-ai_TqQ8j-py3.9/lib/python3.8/site-packages/pandas/util/_decorators.py:311\u001b[0m, in \u001b[0;36mdeprecate_nonkeyword_arguments.<locals>.decorate.<locals>.wrapper\u001b[0;34m(*args, **kwargs)\u001b[0m\n\u001b[1;32m    305\u001b[0m \u001b[39mif\u001b[39;00m \u001b[39mlen\u001b[39m(args) \u001b[39m>\u001b[39m num_allow_args:\n\u001b[1;32m    306\u001b[0m     warnings\u001b[39m.\u001b[39mwarn(\n\u001b[1;32m    307\u001b[0m         msg\u001b[39m.\u001b[39mformat(arguments\u001b[39m=\u001b[39marguments),\n\u001b[1;32m    308\u001b[0m         \u001b[39mFutureWarning\u001b[39;00m,\n\u001b[1;32m    309\u001b[0m         stacklevel\u001b[39m=\u001b[39mstacklevel,\n\u001b[1;32m    310\u001b[0m     )\n\u001b[0;32m--> 311\u001b[0m \u001b[39mreturn\u001b[39;00m func(\u001b[39m*\u001b[39;49margs, \u001b[39m*\u001b[39;49m\u001b[39m*\u001b[39;49mkwargs)\n",
      "File \u001b[0;32m~/.cache/pypoetry/virtualenvs/hackacity-smo-2022-ai_TqQ8j-py3.9/lib/python3.8/site-packages/pandas/io/json/_json.py:612\u001b[0m, in \u001b[0;36mread_json\u001b[0;34m(path_or_buf, orient, typ, dtype, convert_axes, convert_dates, keep_default_dates, numpy, precise_float, date_unit, encoding, encoding_errors, lines, chunksize, compression, nrows, storage_options)\u001b[0m\n\u001b[1;32m    609\u001b[0m     \u001b[39mreturn\u001b[39;00m json_reader\n\u001b[1;32m    611\u001b[0m \u001b[39mwith\u001b[39;00m json_reader:\n\u001b[0;32m--> 612\u001b[0m     \u001b[39mreturn\u001b[39;00m json_reader\u001b[39m.\u001b[39;49mread()\n",
      "File \u001b[0;32m~/.cache/pypoetry/virtualenvs/hackacity-smo-2022-ai_TqQ8j-py3.9/lib/python3.8/site-packages/pandas/io/json/_json.py:746\u001b[0m, in \u001b[0;36mJsonReader.read\u001b[0;34m(self)\u001b[0m\n\u001b[1;32m    744\u001b[0m         obj \u001b[39m=\u001b[39m \u001b[39mself\u001b[39m\u001b[39m.\u001b[39m_get_object_parser(\u001b[39mself\u001b[39m\u001b[39m.\u001b[39m_combine_lines(data_lines))\n\u001b[1;32m    745\u001b[0m \u001b[39melse\u001b[39;00m:\n\u001b[0;32m--> 746\u001b[0m     obj \u001b[39m=\u001b[39m \u001b[39mself\u001b[39;49m\u001b[39m.\u001b[39;49m_get_object_parser(\u001b[39mself\u001b[39;49m\u001b[39m.\u001b[39;49mdata)\n\u001b[1;32m    747\u001b[0m \u001b[39mself\u001b[39m\u001b[39m.\u001b[39mclose()\n\u001b[1;32m    748\u001b[0m \u001b[39mreturn\u001b[39;00m obj\n",
      "File \u001b[0;32m~/.cache/pypoetry/virtualenvs/hackacity-smo-2022-ai_TqQ8j-py3.9/lib/python3.8/site-packages/pandas/io/json/_json.py:768\u001b[0m, in \u001b[0;36mJsonReader._get_object_parser\u001b[0;34m(self, json)\u001b[0m\n\u001b[1;32m    766\u001b[0m obj \u001b[39m=\u001b[39m \u001b[39mNone\u001b[39;00m\n\u001b[1;32m    767\u001b[0m \u001b[39mif\u001b[39;00m typ \u001b[39m==\u001b[39m \u001b[39m\"\u001b[39m\u001b[39mframe\u001b[39m\u001b[39m\"\u001b[39m:\n\u001b[0;32m--> 768\u001b[0m     obj \u001b[39m=\u001b[39m FrameParser(json, \u001b[39m*\u001b[39;49m\u001b[39m*\u001b[39;49mkwargs)\u001b[39m.\u001b[39;49mparse()\n\u001b[1;32m    770\u001b[0m \u001b[39mif\u001b[39;00m typ \u001b[39m==\u001b[39m \u001b[39m\"\u001b[39m\u001b[39mseries\u001b[39m\u001b[39m\"\u001b[39m \u001b[39mor\u001b[39;00m obj \u001b[39mis\u001b[39;00m \u001b[39mNone\u001b[39;00m:\n\u001b[1;32m    771\u001b[0m     \u001b[39mif\u001b[39;00m \u001b[39mnot\u001b[39;00m \u001b[39misinstance\u001b[39m(dtype, \u001b[39mbool\u001b[39m):\n",
      "File \u001b[0;32m~/.cache/pypoetry/virtualenvs/hackacity-smo-2022-ai_TqQ8j-py3.9/lib/python3.8/site-packages/pandas/io/json/_json.py:880\u001b[0m, in \u001b[0;36mParser.parse\u001b[0;34m(self)\u001b[0m\n\u001b[1;32m    878\u001b[0m     \u001b[39mself\u001b[39m\u001b[39m.\u001b[39m_parse_numpy()\n\u001b[1;32m    879\u001b[0m \u001b[39melse\u001b[39;00m:\n\u001b[0;32m--> 880\u001b[0m     \u001b[39mself\u001b[39;49m\u001b[39m.\u001b[39;49m_parse_no_numpy()\n\u001b[1;32m    882\u001b[0m \u001b[39mif\u001b[39;00m \u001b[39mself\u001b[39m\u001b[39m.\u001b[39mobj \u001b[39mis\u001b[39;00m \u001b[39mNone\u001b[39;00m:\n\u001b[1;32m    883\u001b[0m     \u001b[39mreturn\u001b[39;00m \u001b[39mNone\u001b[39;00m\n",
      "File \u001b[0;32m~/.cache/pypoetry/virtualenvs/hackacity-smo-2022-ai_TqQ8j-py3.9/lib/python3.8/site-packages/pandas/io/json/_json.py:1132\u001b[0m, in \u001b[0;36mFrameParser._parse_no_numpy\u001b[0;34m(self)\u001b[0m\n\u001b[1;32m   1129\u001b[0m orient \u001b[39m=\u001b[39m \u001b[39mself\u001b[39m\u001b[39m.\u001b[39morient\n\u001b[1;32m   1131\u001b[0m \u001b[39mif\u001b[39;00m orient \u001b[39m==\u001b[39m \u001b[39m\"\u001b[39m\u001b[39mcolumns\u001b[39m\u001b[39m\"\u001b[39m:\n\u001b[0;32m-> 1132\u001b[0m     \u001b[39mself\u001b[39m\u001b[39m.\u001b[39mobj \u001b[39m=\u001b[39m DataFrame(\n\u001b[1;32m   1133\u001b[0m         loads(json, precise_float\u001b[39m=\u001b[39;49m\u001b[39mself\u001b[39;49m\u001b[39m.\u001b[39;49mprecise_float), dtype\u001b[39m=\u001b[39;49m\u001b[39mNone\u001b[39;49;00m\n\u001b[1;32m   1134\u001b[0m     )\n\u001b[1;32m   1135\u001b[0m \u001b[39melif\u001b[39;00m orient \u001b[39m==\u001b[39m \u001b[39m\"\u001b[39m\u001b[39msplit\u001b[39m\u001b[39m\"\u001b[39m:\n\u001b[1;32m   1136\u001b[0m     decoded \u001b[39m=\u001b[39m {\n\u001b[1;32m   1137\u001b[0m         \u001b[39mstr\u001b[39m(k): v\n\u001b[1;32m   1138\u001b[0m         \u001b[39mfor\u001b[39;00m k, v \u001b[39min\u001b[39;00m loads(json, precise_float\u001b[39m=\u001b[39m\u001b[39mself\u001b[39m\u001b[39m.\u001b[39mprecise_float)\u001b[39m.\u001b[39mitems()\n\u001b[1;32m   1139\u001b[0m     }\n",
      "File \u001b[0;32m~/.cache/pypoetry/virtualenvs/hackacity-smo-2022-ai_TqQ8j-py3.9/lib/python3.8/site-packages/pandas/core/frame.py:636\u001b[0m, in \u001b[0;36mDataFrame.__init__\u001b[0;34m(self, data, index, columns, dtype, copy)\u001b[0m\n\u001b[1;32m    630\u001b[0m     mgr \u001b[39m=\u001b[39m \u001b[39mself\u001b[39m\u001b[39m.\u001b[39m_init_mgr(\n\u001b[1;32m    631\u001b[0m         data, axes\u001b[39m=\u001b[39m{\u001b[39m\"\u001b[39m\u001b[39mindex\u001b[39m\u001b[39m\"\u001b[39m: index, \u001b[39m\"\u001b[39m\u001b[39mcolumns\u001b[39m\u001b[39m\"\u001b[39m: columns}, dtype\u001b[39m=\u001b[39mdtype, copy\u001b[39m=\u001b[39mcopy\n\u001b[1;32m    632\u001b[0m     )\n\u001b[1;32m    634\u001b[0m \u001b[39melif\u001b[39;00m \u001b[39misinstance\u001b[39m(data, \u001b[39mdict\u001b[39m):\n\u001b[1;32m    635\u001b[0m     \u001b[39m# GH#38939 de facto copy defaults to False only in non-dict cases\u001b[39;00m\n\u001b[0;32m--> 636\u001b[0m     mgr \u001b[39m=\u001b[39m dict_to_mgr(data, index, columns, dtype\u001b[39m=\u001b[39;49mdtype, copy\u001b[39m=\u001b[39;49mcopy, typ\u001b[39m=\u001b[39;49mmanager)\n\u001b[1;32m    637\u001b[0m \u001b[39melif\u001b[39;00m \u001b[39misinstance\u001b[39m(data, ma\u001b[39m.\u001b[39mMaskedArray):\n\u001b[1;32m    638\u001b[0m     \u001b[39mimport\u001b[39;00m \u001b[39mnumpy\u001b[39;00m\u001b[39m.\u001b[39;00m\u001b[39mma\u001b[39;00m\u001b[39m.\u001b[39;00m\u001b[39mmrecords\u001b[39;00m \u001b[39mas\u001b[39;00m \u001b[39mmrecords\u001b[39;00m\n",
      "File \u001b[0;32m~/.cache/pypoetry/virtualenvs/hackacity-smo-2022-ai_TqQ8j-py3.9/lib/python3.8/site-packages/pandas/core/internals/construction.py:502\u001b[0m, in \u001b[0;36mdict_to_mgr\u001b[0;34m(data, index, columns, dtype, typ, copy)\u001b[0m\n\u001b[1;32m    494\u001b[0m     arrays \u001b[39m=\u001b[39m [\n\u001b[1;32m    495\u001b[0m         x\n\u001b[1;32m    496\u001b[0m         \u001b[39mif\u001b[39;00m \u001b[39mnot\u001b[39;00m \u001b[39mhasattr\u001b[39m(x, \u001b[39m\"\u001b[39m\u001b[39mdtype\u001b[39m\u001b[39m\"\u001b[39m) \u001b[39mor\u001b[39;00m \u001b[39mnot\u001b[39;00m \u001b[39misinstance\u001b[39m(x\u001b[39m.\u001b[39mdtype, ExtensionDtype)\n\u001b[1;32m    497\u001b[0m         \u001b[39melse\u001b[39;00m x\u001b[39m.\u001b[39mcopy()\n\u001b[1;32m    498\u001b[0m         \u001b[39mfor\u001b[39;00m x \u001b[39min\u001b[39;00m arrays\n\u001b[1;32m    499\u001b[0m     ]\n\u001b[1;32m    500\u001b[0m     \u001b[39m# TODO: can we get rid of the dt64tz special case above?\u001b[39;00m\n\u001b[0;32m--> 502\u001b[0m \u001b[39mreturn\u001b[39;00m arrays_to_mgr(arrays, columns, index, dtype\u001b[39m=\u001b[39;49mdtype, typ\u001b[39m=\u001b[39;49mtyp, consolidate\u001b[39m=\u001b[39;49mcopy)\n",
      "File \u001b[0;32m~/.cache/pypoetry/virtualenvs/hackacity-smo-2022-ai_TqQ8j-py3.9/lib/python3.8/site-packages/pandas/core/internals/construction.py:120\u001b[0m, in \u001b[0;36marrays_to_mgr\u001b[0;34m(arrays, columns, index, dtype, verify_integrity, typ, consolidate)\u001b[0m\n\u001b[1;32m    117\u001b[0m \u001b[39mif\u001b[39;00m verify_integrity:\n\u001b[1;32m    118\u001b[0m     \u001b[39m# figure out the index, if necessary\u001b[39;00m\n\u001b[1;32m    119\u001b[0m     \u001b[39mif\u001b[39;00m index \u001b[39mis\u001b[39;00m \u001b[39mNone\u001b[39;00m:\n\u001b[0;32m--> 120\u001b[0m         index \u001b[39m=\u001b[39m _extract_index(arrays)\n\u001b[1;32m    121\u001b[0m     \u001b[39melse\u001b[39;00m:\n\u001b[1;32m    122\u001b[0m         index \u001b[39m=\u001b[39m ensure_index(index)\n",
      "File \u001b[0;32m~/.cache/pypoetry/virtualenvs/hackacity-smo-2022-ai_TqQ8j-py3.9/lib/python3.8/site-packages/pandas/core/internals/construction.py:674\u001b[0m, in \u001b[0;36m_extract_index\u001b[0;34m(data)\u001b[0m\n\u001b[1;32m    672\u001b[0m lengths \u001b[39m=\u001b[39m \u001b[39mlist\u001b[39m(\u001b[39mset\u001b[39m(raw_lengths))\n\u001b[1;32m    673\u001b[0m \u001b[39mif\u001b[39;00m \u001b[39mlen\u001b[39m(lengths) \u001b[39m>\u001b[39m \u001b[39m1\u001b[39m:\n\u001b[0;32m--> 674\u001b[0m     \u001b[39mraise\u001b[39;00m \u001b[39mValueError\u001b[39;00m(\u001b[39m\"\u001b[39m\u001b[39mAll arrays must be of the same length\u001b[39m\u001b[39m\"\u001b[39m)\n\u001b[1;32m    676\u001b[0m \u001b[39mif\u001b[39;00m have_dicts:\n\u001b[1;32m    677\u001b[0m     \u001b[39mraise\u001b[39;00m \u001b[39mValueError\u001b[39;00m(\n\u001b[1;32m    678\u001b[0m         \u001b[39m\"\u001b[39m\u001b[39mMixing dicts with non-Series may lead to ambiguous ordering.\u001b[39m\u001b[39m\"\u001b[39m\n\u001b[1;32m    679\u001b[0m     )\n",
      "\u001b[0;31mValueError\u001b[0m: All arrays must be of the same length"
     ]
    }
   ],
   "source": [
    "#df1 = pd.read_csv(\"https://opendata.porto.digital/datastore/dump/191849b0-4024-406d-ad8b-74b7ef7468e9?bom=True\")\n",
    "\n",
    "d1 = pd.read_json(\"https://opendata.porto.digital/datastore/dump/191849b0-4024-406d-ad8b-74b7ef7468e9?format=json\")"
   ]
  },
  {
   "cell_type": "code",
   "execution_count": 22,
   "metadata": {},
   "outputs": [
    {
     "ename": "AttributeError",
     "evalue": "'str' object has no attribute 'read'",
     "output_type": "error",
     "traceback": [
      "\u001b[0;31m---------------------------------------------------------------------------\u001b[0m",
      "\u001b[0;31mAttributeError\u001b[0m                            Traceback (most recent call last)",
      "Cell \u001b[0;32mIn [22], line 1\u001b[0m\n\u001b[0;32m----> 1\u001b[0m \u001b[43mjson\u001b[49m\u001b[38;5;241;43m.\u001b[39;49m\u001b[43mload\u001b[49m\u001b[43m(\u001b[49m\u001b[38;5;124;43m\"\u001b[39;49m\u001b[38;5;124;43mhttps://opendata.porto.digital/datastore/dump/191849b0-4024-406d-ad8b-74b7ef7468e9?format=json\u001b[39;49m\u001b[38;5;124;43m\"\u001b[39;49m\u001b[43m)\u001b[49m\n",
      "File \u001b[0;32m~/.pyenv/versions/3.8.0/lib/python3.8/json/__init__.py:293\u001b[0m, in \u001b[0;36mload\u001b[0;34m(fp, cls, object_hook, parse_float, parse_int, parse_constant, object_pairs_hook, **kw)\u001b[0m\n\u001b[1;32m    274\u001b[0m \u001b[39mdef\u001b[39;00m \u001b[39mload\u001b[39m(fp, \u001b[39m*\u001b[39m, \u001b[39mcls\u001b[39m\u001b[39m=\u001b[39m\u001b[39mNone\u001b[39;00m, object_hook\u001b[39m=\u001b[39m\u001b[39mNone\u001b[39;00m, parse_float\u001b[39m=\u001b[39m\u001b[39mNone\u001b[39;00m,\n\u001b[1;32m    275\u001b[0m         parse_int\u001b[39m=\u001b[39m\u001b[39mNone\u001b[39;00m, parse_constant\u001b[39m=\u001b[39m\u001b[39mNone\u001b[39;00m, object_pairs_hook\u001b[39m=\u001b[39m\u001b[39mNone\u001b[39;00m, \u001b[39m*\u001b[39m\u001b[39m*\u001b[39mkw):\n\u001b[1;32m    276\u001b[0m     \u001b[39m\"\"\"Deserialize ``fp`` (a ``.read()``-supporting file-like object containing\u001b[39;00m\n\u001b[1;32m    277\u001b[0m \u001b[39m    a JSON document) to a Python object.\u001b[39;00m\n\u001b[1;32m    278\u001b[0m \n\u001b[0;32m   (...)\u001b[0m\n\u001b[1;32m    291\u001b[0m \u001b[39m    kwarg; otherwise ``JSONDecoder`` is used.\u001b[39;00m\n\u001b[1;32m    292\u001b[0m \u001b[39m    \"\"\"\u001b[39;00m\n\u001b[0;32m--> 293\u001b[0m     \u001b[39mreturn\u001b[39;00m loads(fp\u001b[39m.\u001b[39;49mread(),\n\u001b[1;32m    294\u001b[0m         \u001b[39mcls\u001b[39m\u001b[39m=\u001b[39m\u001b[39mcls\u001b[39m, object_hook\u001b[39m=\u001b[39mobject_hook,\n\u001b[1;32m    295\u001b[0m         parse_float\u001b[39m=\u001b[39mparse_float, parse_int\u001b[39m=\u001b[39mparse_int,\n\u001b[1;32m    296\u001b[0m         parse_constant\u001b[39m=\u001b[39mparse_constant, object_pairs_hook\u001b[39m=\u001b[39mobject_pairs_hook, \u001b[39m*\u001b[39m\u001b[39m*\u001b[39mkw)\n",
      "\u001b[0;31mAttributeError\u001b[0m: 'str' object has no attribute 'read'"
     ]
    }
   ],
   "source": [
    "json.load(\"https://opendata.porto.digital/datastore/dump/191849b0-4024-406d-ad8b-74b7ef7468e9?format=json\")"
   ]
  },
  {
   "cell_type": "code",
   "execution_count": 6,
   "metadata": {},
   "outputs": [
    {
     "name": "stdout",
     "output_type": "stream",
     "text": [
      "<class 'pandas.core.frame.DataFrame'>\n",
      "RangeIndex: 60 entries, 0 to 59\n",
      "Data columns (total 15 columns):\n",
      " #   Column       Non-Null Count  Dtype  \n",
      "---  ------       --------------  -----  \n",
      " 0   _id          60 non-null     int64  \n",
      " 1   active       60 non-null     bool   \n",
      " 2   base         60 non-null     object \n",
      " 3   category     60 non-null     object \n",
      " 4   created      60 non-null     object \n",
      " 5   description  60 non-null     object \n",
      " 6   others       60 non-null     object \n",
      " 7   id           60 non-null     object \n",
      " 8   label        60 non-null     object \n",
      " 9   lang         60 non-null     object \n",
      " 10  address      60 non-null     object \n",
      " 11  latitude     60 non-null     float64\n",
      " 12  longitude    60 non-null     float64\n",
      " 13  time         59 non-null     object \n",
      " 14  updated      60 non-null     object \n",
      "dtypes: bool(1), float64(2), int64(1), object(11)\n",
      "memory usage: 6.7+ KB\n"
     ]
    }
   ],
   "source": [
    "df1.info()"
   ]
  },
  {
   "cell_type": "code",
   "execution_count": 21,
   "metadata": {},
   "outputs": [
    {
     "data": {
      "text/plain": [
       "0     [{'lang': 'pt-PT', 'value': 'Monumentos'}, {'l...\n",
       "1     [{'lang': 'pt-PT', 'value': 'Monumentos'}, {'l...\n",
       "2     [{'lang': 'pt-PT', 'value': 'Monumentos'}, {'l...\n",
       "3     [{'lang': 'pt-PT', 'value': 'Monumentos'}, {'l...\n",
       "4     [{'lang': 'pt-PT', 'value': 'Monumentos'}, {'l...\n",
       "5     [{'lang': 'pt-PT', 'value': 'Monumentos'}, {'l...\n",
       "6     [{'lang': 'pt-PT', 'value': 'Monumentos'}, {'l...\n",
       "7     [{'lang': 'pt-PT', 'value': 'Monumentos'}, {'l...\n",
       "8     [{'lang': 'pt-PT', 'value': 'Monumentos'}, {'l...\n",
       "9     [{'lang': 'pt-PT', 'value': 'Monumentos'}, {'l...\n",
       "10    [{'lang': 'pt-PT', 'value': 'Monumentos'}, {'l...\n",
       "11    [{'lang': 'pt-PT', 'value': 'Monumentos'}, {'l...\n",
       "12    [{'lang': 'pt-PT', 'value': 'Monumentos'}, {'l...\n",
       "13    [{'lang': 'pt-PT', 'value': 'Monumentos'}, {'l...\n",
       "14    [{'lang': 'pt-PT', 'value': 'Monumentos'}, {'l...\n",
       "15    [{'lang': 'pt-PT', 'value': 'Monumentos'}, {'l...\n",
       "16    [{'lang': 'pt-PT', 'value': 'Monumentos'}, {'l...\n",
       "17    [{'lang': 'pt-PT', 'value': 'Monumentos'}, {'l...\n",
       "18    [{'lang': 'pt-PT', 'value': 'Monumentos'}, {'l...\n",
       "19    [{'lang': 'pt-PT', 'value': 'Monumentos'}, {'l...\n",
       "20    [{'lang': 'pt-PT', 'value': 'Monumentos'}, {'l...\n",
       "21    [{'lang': 'pt-PT', 'value': 'Monumentos'}, {'l...\n",
       "22    [{'lang': 'pt-PT', 'value': 'Monumentos'}, {'l...\n",
       "23    [{'lang': 'pt-PT', 'value': 'Monumentos'}, {'l...\n",
       "24    [{'lang': 'pt-PT', 'value': 'Monumentos'}, {'l...\n",
       "25    [{'lang': 'pt-PT', 'value': 'Monumentos'}, {'l...\n",
       "26    [{'lang': 'pt-PT', 'value': 'Monumentos'}, {'l...\n",
       "27    [{'lang': 'pt-PT', 'value': 'Monumentos'}, {'l...\n",
       "28    [{'lang': 'pt-PT', 'value': 'Monumentos'}, {'l...\n",
       "29    [{'lang': 'pt-PT', 'value': 'Monumentos'}, {'l...\n",
       "30    [{'lang': 'pt-PT', 'value': 'Monumentos'}, {'l...\n",
       "31    [{'lang': 'pt-PT', 'value': 'Monumentos'}, {'l...\n",
       "32    [{'lang': 'pt-PT', 'value': 'Monumentos'}, {'l...\n",
       "33    [{'lang': 'pt-PT', 'value': 'Monumentos'}, {'l...\n",
       "34    [{'lang': 'pt-PT', 'value': 'Monumentos'}, {'l...\n",
       "35    [{'lang': 'pt-PT', 'value': 'Monumentos'}, {'l...\n",
       "36    [{'lang': 'pt-PT', 'value': 'Monumentos'}, {'l...\n",
       "37    [{'lang': 'pt-PT', 'value': 'Monumentos'}, {'l...\n",
       "38    [{'lang': 'pt-PT', 'value': 'Monumentos'}, {'l...\n",
       "39    [{'lang': 'pt-PT', 'value': 'Monumentos'}, {'l...\n",
       "40    [{'lang': 'pt-PT', 'value': 'Monumentos'}, {'l...\n",
       "41    [{'lang': 'pt-PT', 'value': 'Monumentos'}, {'l...\n",
       "42    [{'lang': 'pt-PT', 'value': 'Monumentos'}, {'l...\n",
       "43    [{'lang': 'pt-PT', 'value': 'Monumentos'}, {'l...\n",
       "44    [{'lang': 'pt-PT', 'value': 'Monumentos'}, {'l...\n",
       "45    [{'lang': 'pt-PT', 'value': 'Monumentos'}, {'l...\n",
       "46    [{'lang': 'pt-PT', 'value': 'Monumentos'}, {'l...\n",
       "47    [{'lang': 'pt-PT', 'value': 'Monumentos'}, {'l...\n",
       "48    [{'lang': 'pt-PT', 'value': 'Monumentos'}, {'l...\n",
       "49    [{'lang': 'pt-PT', 'value': 'Monumentos'}, {'l...\n",
       "50    [{'lang': 'pt-PT', 'value': 'Monumentos'}, {'l...\n",
       "51    [{'lang': 'pt-PT', 'value': 'Monumentos'}, {'l...\n",
       "52    [{'lang': 'pt-PT', 'value': 'Monumentos'}, {'l...\n",
       "53    [{'lang': 'pt-PT', 'value': 'Monumentos'}, {'l...\n",
       "54    [{'lang': 'pt-PT', 'value': 'Monumentos'}, {'l...\n",
       "55    [{'lang': 'pt-PT', 'value': 'Monumentos'}, {'l...\n",
       "56    [{'lang': 'pt-PT', 'value': 'Monumentos'}, {'l...\n",
       "57    [{'lang': 'pt-PT', 'value': 'Monumentos'}, {'l...\n",
       "58    [{'lang': 'pt-PT', 'value': 'Monumentos'}, {'l...\n",
       "59    [{'lang': 'pt-PT', 'value': 'Lojas'}, {'lang':...\n",
       "Name: category, dtype: object"
      ]
     },
     "execution_count": 21,
     "metadata": {},
     "output_type": "execute_result"
    }
   ],
   "source": [
    "df1.category"
   ]
  },
  {
   "cell_type": "markdown",
   "metadata": {},
   "source": []
  }
 ],
 "metadata": {
  "kernelspec": {
   "display_name": "Python 3.8.0 ('hackacity-smo-2022-ai_TqQ8j-py3.9')",
   "language": "python",
   "name": "python3"
  },
  "language_info": {
   "codemirror_mode": {
    "name": "ipython",
    "version": 3
   },
   "file_extension": ".py",
   "mimetype": "text/x-python",
   "name": "python",
   "nbconvert_exporter": "python",
   "pygments_lexer": "ipython3",
   "version": "3.8.0"
  },
  "orig_nbformat": 4,
  "vscode": {
   "interpreter": {
    "hash": "ad1e5a7eed638b9a9c2f05ab49a6d1de16898c2ebefc421d3cec2147c485aebe"
   }
  }
 },
 "nbformat": 4,
 "nbformat_minor": 2
}
